{
 "cells": [
  {
   "cell_type": "markdown",
   "metadata": {},
   "source": [
    "<center>\n",
    "    <img src=\"https://s3-api.us-geo.objectstorage.softlayer.net/cf-courses-data/CognitiveClass/Logos/organization_logo/organization_logo.png\" width=\"300\" alt=\"cognitiveclass.ai logo\"  />\n",
    "</center>\n"
   ]
  },
  {
   "cell_type": "markdown",
   "metadata": {},
   "source": [
    "#### Add your code below following the instructions given in the course\n"
   ]
  },
  {
   "cell_type": "markdown",
   "metadata": {
    "tags": []
   },
   "source": [
    "My title"
   ]
  },
  {
   "cell_type": "code",
   "execution_count": 2,
   "metadata": {},
   "outputs": [
    {
     "data": {
      "text/plain": [
       "281"
      ]
     },
     "execution_count": 2,
     "metadata": {},
     "output_type": "execute_result"
    }
   ],
   "source": [
    "278+3"
   ]
  },
  {
   "cell_type": "markdown",
   "metadata": {},
   "source": [
    "# **FIRST TRY IN IBM LABS**\n",
    "-----\n",
    "## This is the 2nd headline\n",
    "\n",
    "*I can even write Vietnamese here*\n",
    "\n",
    "**_XIN CHÀO! :)_**\n",
    "\n",
    "**bold**, *italic*, **_combine italic and bold_**\n",
    "\n",
    "e posso dire ciao a ~~strike through~~\n",
    "\n",
    "Then I will make a list:\n",
    "1. ta-da \n",
    "   they says that some text should be aligned with the above item. Ok!\n",
    "     - and an unordered list => the color is changed into green now~. Oops, we have to use 'm' to see it.\n",
    "\n",
    "## **YOOOO. LINKS COMING NOW!**\n",
    "So there are two ways to create links. Whatever, just enjoy some music then. \n",
    "Imagine Dragons released its new song few days ago. Let's enjoy it. The song is [WRECKED](https://www.youtube.com/watch?v=4mJayYlfcWo). And this is called an **in-line link**.\n",
    "\n",
    "Then a reference link [_Sometimes I wish that I could wish it all away_][Arbitrary case-insensitive reference text]\n",
    "\n",
    "Actually, IBM gave me a cheatsheet [1], and now I am using the number for reference-link style\n",
    "\n",
    "Anyway, I just leave the link [here]\n",
    "\n",
    "\n",
    " [**_Oh, soy un desastre sin ti aquí_**](https://youtu.be/BjEj1QPvsr4?t=60)\n",
    "\n",
    "\n",
    "_note for links_:\n",
    "\n",
    "[arbitrary case-insensitive reference text]:\n",
    "https://youtu.be/4mJayYlfcWo\n",
    "\n",
    "[1]: https://github.com/adam-p/markdown-here/wiki/Markdown-Here-Cheatsheet\n",
    "\n",
    "[here]: https://youtu.be/4mJayYlfcWo\n",
    "\n",
    "## **NOW WE WILL GET AROUND WITH PICTURES**\n",
    "\n",
    "Are you still playing [WRECKED](https://www.youtube.com/watch?v=4mJayYlfcWo)? \n",
    "\n",
    "Because I will post two pictures which are the scenes of that song :). I really enjoy this song.\n",
    "Here are the pictures (*hover to see the text*)\n",
    "\n",
    "Pic 1: \n",
    "\n",
    "![alt text](https://pbs.twimg.com/media/E5RHIRMWYAUe6zY.jpg \"Two sisters on a boat (but as for me, it's just two personalities in one person)\")\n",
    "\n",
    "Pic 2 - reference-style:\n",
    "\n",
    "![alt text][pic]\n",
    "\n",
    "[pic]:https://www.eventim.de/magazin/fileadmin/_processed_/d/a/csm_imagine-dragons-wrecked-1_e587629748.jpg \"I've tried to put this all behind me\"\n",
    "\n",
    "## **Code and Syntax Highlighting**\n",
    "\n",
    "Inline `code` has `back-ticks around` it.\n",
    "\n",
    "In this section, I have learned that there are a lot of languages can be highlighted, so... to figure out which one is for highlighting, just jump to this [website](https://highlightjs.org/static/demo/)\n",
    "\n",
    "\n",
    "```javascript\n",
    "var s = \"JavaScript syntax highlighting\";\n",
    "alert(s);\n",
    "```\n",
    " \n",
    "```python\n",
    "s = \"Python syntax highlighting\"\n",
    "print s\n",
    "```\n",
    " \n",
    "```\n",
    "No language indicated, so no syntax highlighting. \n",
    "But let's throw in a <b>tag</b>.\n",
    "```\n",
    "\n",
    "## **HOW TO MAKE A TABLE**?\n",
    "\n",
    "Table | Seems | Easy\n",
    "--- | :---: | ---:\n",
    "*It*| `works`| **pretty well**\n",
    "ok| I have to | make more rows\n",
    "because | the exercise | asks me \n",
    "*to* | `do` | **so**\n",
    "\n",
    "## **QUOTE QUOTE QUOTE**\n",
    "\n",
    "> Days pass by and my eyes stay dry and I think that I'm okay\n",
    "\n",
    "Sorry everyone. My mind is still asking for [WRECKED](https://www.youtube.com/watch?v=4mJayYlfcWo) :)\n",
    "\n",
    "> *tell me, how am I supposed to move on?*\n",
    "\n",
    "Well this makes me feel like I am writing a post on my blog... though I don't usually post something on it :)\n",
    "\n",
    "\n",
    "## **Inline HTML**\n",
    "\n",
    "<dl>\n",
    "  <dt>Okay. I know people may get tired of the song now</dt>\n",
    "  <dd>But</dd>\n",
    "     <dd>I like the song :)</dd>\n",
    "\n",
    "  <dt>Btw, I cannot use **markdown** in HTML</dt>\n",
    "    <dd>So, if I want to use <em>mark down</em>, I have to use <em> HTML tags</em>.</dd> \n",
    "  \n",
    "  <dt> I really <em> enjoy doing this </em>; hopefully, I can do something nice in the future</dt>\n",
    "</dl>\n",
    "\n",
    "\n",
    "****\n",
    "_but wait... what is dl, dt, and dd?_"
   ]
  },
  {
   "cell_type": "markdown",
   "metadata": {},
   "source": []
  },
  {
   "cell_type": "code",
   "execution_count": null,
   "metadata": {},
   "outputs": [],
   "source": []
  }
 ],
 "metadata": {
  "kernelspec": {
   "display_name": "Python",
   "language": "python",
   "name": "conda-env-python-py"
  },
  "language_info": {
   "codemirror_mode": {
    "name": "ipython",
    "version": 3
   },
   "file_extension": ".py",
   "mimetype": "text/x-python",
   "name": "python",
   "nbconvert_exporter": "python",
   "pygments_lexer": "ipython3",
   "version": "3.6.13"
  }
 },
 "nbformat": 4,
 "nbformat_minor": 4
}
